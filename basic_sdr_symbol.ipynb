{
  "nbformat": 4,
  "nbformat_minor": 0,
  "metadata": {
    "colab": {
      "name": "basic_sdr_symbol.ipynb",
      "version": "0.3.2",
      "provenance": [],
      "collapsed_sections": [],
      "include_colab_link": true
    },
    "kernelspec": {
      "name": "python3",
      "display_name": "Python 3"
    }
  },
  "cells": [
    {
      "cell_type": "markdown",
      "metadata": {
        "id": "view-in-github",
        "colab_type": "text"
      },
      "source": [
        "<a href=\"https://colab.research.google.com/github/zanycadence/basic_sdr_processing/blob/master/basic_sdr_symbol.ipynb\" target=\"_parent\"><img src=\"https://colab.research.google.com/assets/colab-badge.svg\" alt=\"Open In Colab\"/></a>"
      ]
    },
    {
      "metadata": {
        "id": "jUhyY5Y_o1nq",
        "colab_type": "code",
        "colab": {
          "base_uri": "https://localhost:8080/",
          "height": 34
        },
        "outputId": "26da20cc-57eb-47ea-95aa-1730626c052c"
      },
      "cell_type": "code",
      "source": [
        "!pip install bitstring"
      ],
      "execution_count": 4,
      "outputs": [
        {
          "output_type": "stream",
          "text": [
            "Requirement already satisfied: bitstring in /usr/local/lib/python3.6/dist-packages (3.1.5)\n"
          ],
          "name": "stdout"
        }
      ]
    },
    {
      "metadata": {
        "id": "4fpNGLUWnecM",
        "colab_type": "code",
        "colab": {}
      },
      "cell_type": "code",
      "source": [
        "import bitstring\n",
        "from bitstring import BitArray, BitStream\n",
        "\n",
        "def decode(pfx, thresh, symbols):\n",
        "    symbol_string = ''\n",
        "    for i in symbols:\n",
        "        if i>thresh:\n",
        "            symbol_string +='1'\n",
        "        else:\n",
        "            symbol_string +='0'\n",
        "    hex_symbols = BitArray('0b'+symbol_string)\n",
        "    \n",
        "    print(\"{0:<12s} {1}\".format(pfx, hex_symbols))\n",
        "    print(symbol_string)"
      ],
      "execution_count": 0,
      "outputs": []
    },
    {
      "metadata": {
        "id": "D_nXGwj8pVLE",
        "colab_type": "code",
        "colab": {}
      },
      "cell_type": "code",
      "source": [
        ""
      ],
      "execution_count": 0,
      "outputs": []
    }
  ]
}